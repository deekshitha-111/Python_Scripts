{
 "cells": [
  {
   "cell_type": "code",
   "execution_count": null,
   "id": "7dd437d6-e680-465d-bb7a-8b9e86061e88",
   "metadata": {},
   "outputs": [],
   "source": [
    "set1={1,2,3,4}\n",
    "set2={4,5,6,7}\n",
    "union_set=set1.union(set2)\n",
    "print(\"union:\",union_set)"
   ]
  },
  {
   "cell_type": "code",
   "execution_count": null,
   "id": "7e043356-4607-4cd9-817a-11c532597b21",
   "metadata": {},
   "outputs": [],
   "source": [
    "inter=set1 & set2\n",
    "print(\"inter:\",inter)"
   ]
  },
  {
   "cell_type": "raw",
   "id": "b914fe65-5879-43fc-984d-3de70eacd3df",
   "metadata": {},
   "source": []
  },
  {
   "cell_type": "code",
   "execution_count": null,
   "id": "b1d77d49-5e75-47ed-bda9-d8279b95d684",
   "metadata": {},
   "outputs": [],
   "source": [
    "diff=set1.difference(set2)\n",
    "print(\"difference:\",diff)"
   ]
  },
  {
   "cell_type": "code",
   "execution_count": null,
   "id": "98cc7d2a-82aa-4bca-9680-415227a3bb0a",
   "metadata": {},
   "outputs": [],
   "source": [
    "text=\"python is powerful, python is versatile, python is fun\"\n",
    "type(text)\n",
    "text=text.lower()\n",
    "text=set(text.split(\" \"))\n",
    "print(text)"
   ]
  },
  {
   "cell_type": "code",
   "execution_count": null,
   "id": "463b710d-0f0c-4288-bfd6-eae4234595b1",
   "metadata": {},
   "outputs": [],
   "source": [
    "x=[\"apple\",\"banana\"]\n",
    "y=[\"apple\",\"banana\"]\n",
    "z=x\n",
    "print(z)\n",
    "print(id(x))\n",
    "print(id(y))\n",
    "print(id(z))\n",
    "print(x==y)\n",
    "print(x is z)"
   ]
  },
  {
   "cell_type": "code",
   "execution_count": null,
   "id": "a039f275-33ca-4099-8952-ae967f9598da",
   "metadata": {},
   "outputs": [],
   "source": [
    "b=int(input(\"enter a number:\"))\n",
    "if b>0:\n",
    "    print(\"positive\")\n",
    "else:\n",
    "    print(\"negative\")"
   ]
  },
  {
   "cell_type": "code",
   "execution_count": null,
   "id": "2bce882e-b371-4a51-a0ca-188ce2fb947c",
   "metadata": {},
   "outputs": [],
   "source": [
    "age=int(input(\"enter your age\"))\n",
    "if age>=18:\n",
    "    print(\"you are eligible to vote\")\n",
    "else:\n",
    "    remaining=18-age\n",
    "    print(\"you are not eligible to vote , you have to wait\",remaining,\"years\")\n",
    "    "
   ]
  },
  {
   "cell_type": "code",
   "execution_count": null,
   "id": "ba1e42f5-b2d8-4a9d-81f7-cc1d616f2ba2",
   "metadata": {},
   "outputs": [],
   "source": [
    "num=(int(input(\"enter a number:\")))\n",
    "if num%2==0:\n",
    "  print(\"it is even\")\n",
    "else:\n",
    "  print(\"it is odd\")\n",
    "    \n",
    "         "
   ]
  },
  {
   "cell_type": "code",
   "execution_count": null,
   "id": "37bacea5-f853-48f2-b45e-b74f89605c8d",
   "metadata": {},
   "outputs": [],
   "source": [
    "number_1=int(input(\"enter a  number:\"))\n",
    "operator=input(\"enter the operator to be performed(+,-,*,/):\")\n",
    "number_2=int(input(\"enter a number:\"))\n",
    "if operator==\"+\":\n",
    "  result=number_1+number_2\n",
    "elif operator==\"-\":\n",
    "  result=number_1-number_2\n",
    "elif operator==\"*\":\n",
    "  result=number_1*number_2\n",
    "elif operator==\"/\":\n",
    "    if number_2==0:\n",
    "        print(\"ZeroDivisionError: division by zero\")\n",
    "    else:\n",
    "        result=number_1/number_2\n",
    "\n",
    "else:\n",
    "  print(\"invalid numbrt\")\n",
    "\n",
    "print(\"result:\",result)\n",
    "          \n",
    "\n"
   ]
  },
  {
   "cell_type": "code",
   "execution_count": null,
   "id": "218f67f7-8759-43ec-9cdf-fc399d544c63",
   "metadata": {},
   "outputs": [],
   "source": [
    "num=int(input(\"enter the year\"))\n",
    "if (num%4==0 \n",
    "    print(\"it is a leap year\")\n",
    "else:\n",
    "    print(\"it is not a leap year\")"
   ]
  },
  {
   "cell_type": "code",
   "execution_count": null,
   "id": "ab2c02ad-aedf-4e70-be3f-6151938954b3",
   "metadata": {},
   "outputs": [],
   "source": [
    "number1=int(input(\"enter 1st number\"))\n",
    "number2=int(input(\"enter 2nd number\"))\n",
    "if number1>number2:\n",
    "    print(number1 ,\"is greater\")\n",
    "elif number2>number1:\n",
    "    print(number2,\" is greater\")\n",
    "else :\n",
    "    print(number1,\"is equal to\",number2)\n",
    "\n"
   ]
  },
  {
   "cell_type": "code",
   "execution_count": null,
   "id": "a852a74b-3927-435e-b574-23a024ed45dc",
   "metadata": {},
   "outputs": [],
   "source": []
  },
  {
   "cell_type": "code",
   "execution_count": null,
   "id": "5e111bb8-50fa-4db5-ab25-78a3cda6bf26",
   "metadata": {},
   "outputs": [],
   "source": [
    "alp=input(\"enter a letter\").lower()\n",
    "vowels=(\"a\",\"e\",\"i\",\"o\",\"u\")\n",
    "if alp in vowels:\n",
    "    print(\"vowel\")\n",
    "else:\n",
    "    print(\"consonant\")\n"
   ]
  },
  {
   "cell_type": "code",
   "execution_count": null,
   "id": "db8cc877-36f1-4847-bade-61f0cc8d49e8",
   "metadata": {},
   "outputs": [],
   "source": [
    "num1=(input(\"enter a number\"))\n",
    "if len(num1)%2!=0:\n",
    "    mid=len(num1)//2\n",
    "    print(\"middle number is\",num1[mid])\n",
    "    \n",
    "    \n",
    "    \n"
   ]
  },
  {
   "cell_type": "code",
   "execution_count": null,
   "id": "190de072-66c2-42b3-a437-cd8cae87a7ae",
   "metadata": {
    "scrolled": true
   },
   "outputs": [],
   "source": [
    "numbers=[1,2,3,4,5,6,7,8]\n",
    "for i in numbers:\n",
    "    if i%2==0:\n",
    "        print(i,\"it is even\")\n",
    "    else:\n",
    "        print(i,\"it is odd\")"
   ]
  },
  {
   "cell_type": "code",
   "execution_count": null,
   "id": "a1677499-18a3-40da-9b06-8b5c79a2f3e3",
   "metadata": {},
   "outputs": [],
   "source": []
  },
  {
   "cell_type": "code",
   "execution_count": null,
   "id": "0ffa7ebf-7a6d-450f-87f5-8dac1a20c87f",
   "metadata": {},
   "outputs": [],
   "source": [
    "num = int(input(\"enter a number: \"))\n",
    "if num < 2:\n",
    "    print(\"not a prime\")\n",
    "else:\n",
    "    prime = True\n",
    "    for i in range(2, num):\n",
    "        if num % i == 0:\n",
    "            prime = False\n",
    "            break\n",
    "    if prime:\n",
    "        print(f'{num} is prime')\n",
    "    else:\n",
    "        print(f'{num} is not a prime')\n"
   ]
  },
  {
   "cell_type": "code",
   "execution_count": null,
   "id": "e28315b7-c29d-4f08-bf08-d5d12eda6c1b",
   "metadata": {},
   "outputs": [],
   "source": [
    "### anagram\n",
    "a=\"silent\"\n",
    "b=\"listen\"\n",
    "if sorted(a)==sorted(b):\n",
    "    print(\"it is a anagram\")\n",
    "else:\n",
    "    print(\"it is not a anagram\")\n",
    "    \n"
   ]
  },
  {
   "cell_type": "code",
   "execution_count": null,
   "id": "c232da06-de6b-4c46-8788-e6bbbf1861de",
   "metadata": {},
   "outputs": [],
   "source": [
    "##anagram\n",
    "a=(input(\"enter a word\")).lower()\n",
    "b=(input(\"enter a word\")).lower()\n",
    "if sorted(a)==sorted(b):\n",
    "   print(\"anagram\")\n",
    "else:\n",
    "    print(\"not a anagram\")"
   ]
  },
  {
   "cell_type": "code",
   "execution_count": null,
   "id": "439de863-73d5-4db5-8790-98b9c8be381d",
   "metadata": {},
   "outputs": [],
   "source": [
    "###palindrome\n",
    "text = input(\"Enter a word: \")\n",
    "if text == text[::-1]:\n",
    "    print(\"Palindrome\")\n",
    "else:\n",
    "    print(\"Not a palindrome\")\n"
   ]
  },
  {
   "cell_type": "code",
   "execution_count": null,
   "id": "a3fcab68-9519-45e3-afbe-95fc53ef17bd",
   "metadata": {},
   "outputs": [],
   "source": [
    "palindrome=(inpu\n",
    "plaindrome=\"its a palindrome\" if a==a[::-1] else \"it not a palindrome\n",
    "## terinary operator ( we use only if esle only writing code in one line)\n",
    "print(palindrome)"
   ]
  },
  {
   "cell_type": "code",
   "execution_count": null,
   "id": "790e4897-6594-48e6-8839-8c44c985783b",
   "metadata": {},
   "outputs": [],
   "source": [
    "a=['python','java','ruby','reactjs','sql','powerbi']\n",
    "a.sort()\n",
    "a"
   ]
  },
  {
   "cell_type": "code",
   "execution_count": null,
   "id": "6eefa1cd-472d-41fa-9d61-e5167cfac0a3",
   "metadata": {},
   "outputs": [],
   "source": [
    "numb=75\n",
    "rank=\"A+\" if numb > 90 \"A\" else numb > 80 \"B+\" if numb > 70 else \"B+\" if numb > 70 else \"B\" \n",
    "print(rank)\n"
   ]
  },
  {
   "cell_type": "code",
   "execution_count": null,
   "id": "73f881e5-35fe-4238-bc86-34d52aa50d6f",
   "metadata": {},
   "outputs": [],
   "source": []
  },
  {
   "cell_type": "code",
   "execution_count": null,
   "id": "938fb010-a20a-4ab0-a272-97bc0e1fb0bb",
   "metadata": {},
   "outputs": [],
   "source": [
    "a = [[1, 2, 3],[4, 5, 6],[7, 8, 9]]\n",
    "prod = 1\n",
    "b = []\n",
    "for i in a:\n",
    "    for j in i:\n",
    "        prod *= j\n",
    "        b.append(prod)\n",
    "    print(prod)\n"
   ]
  },
  {
   "cell_type": "code",
   "execution_count": null,
   "id": "8088e228-809a-4c09-b12e-e32519baac2e",
   "metadata": {},
   "outputs": [],
   "source": [
    "w=0\n",
    "while w<5:\n",
    "    print(w)\n",
    "    w+=1"
   ]
  },
  {
   "cell_type": "code",
   "execution_count": null,
   "id": "e89234a2-23e8-44a1-833e-a0271e17a89b",
   "metadata": {},
   "outputs": [],
   "source": [
    "total = 0\n",
    "count = 1\n",
    "while total < 10:\n",
    "    total+=count\n",
    "    count+=1\n",
    "    print(count)"
   ]
  },
  {
   "cell_type": "code",
   "execution_count": 4,
   "id": "4c286e70-1dc3-49f2-b484-7d43c5ef579f",
   "metadata": {},
   "outputs": [
    {
     "name": "stdout",
     "output_type": "stream",
     "text": [
      "zero\n",
      "-ve\n",
      "-ve\n",
      "-ve\n",
      "-ve\n"
     ]
    }
   ],
   "source": [
    "a = 0\n",
    "while a < 5:\n",
    "    if a < 0:\n",
    "        print(\"+ve\")\n",
    "        a+=1\n",
    "    elif a > 0:\n",
    "        print(\"-ve\")\n",
    "        a+=1\n",
    "    else:\n",
    "        print(\"zero\")\n",
    "        a+=1"
   ]
  },
  {
   "cell_type": "code",
   "execution_count": null,
   "id": "88a4f26f-013f-4496-9584-bf4d5f2d8ce0",
   "metadata": {},
   "outputs": [],
   "source": [
    "### control flow statements\n",
    "1.break \n",
    "2.continue\n",
    "3.pass\n"
   ]
  },
  {
   "cell_type": "code",
   "execution_count": null,
   "id": "d30b0f4e-e99f-4989-9a2c-53b47e4c1328",
   "metadata": {},
   "outputs": [],
   "source": [
    "##break'\n",
    "f=range(20)\n",
    "for i in f:\n",
    "    print(i)\n",
    "    if i == 10:\n",
    "        break"
   ]
  },
  {
   "cell_type": "code",
   "execution_count": null,
   "id": "df939197-08ca-4a1a-9bdc-f99e7931550d",
   "metadata": {},
   "outputs": [],
   "source": [
    "g=list(range(10))\n",
    "for j in g:\n",
    "    if j == 8:\n",
    "        break\n",
    "    print(j)"
   ]
  },
  {
   "cell_type": "code",
   "execution_count": null,
   "id": "8bd4b5f3-8beb-4fc3-95a3-e0395998d37b",
   "metadata": {},
   "outputs": [],
   "source": [
    "##storing the divisible by 2 values in list\n",
    "h = range(100)\n",
    "lst=list()\n",
    "for i in h:\n",
    "    if i % 2 ==0:\n",
    "        lst.append(i)\n",
    "    if i==50:\n",
    "        break\n",
    "print(lst)"
   ]
  },
  {
   "cell_type": "code",
   "execution_count": null,
   "id": "8772211f-d1fc-481e-8d08-c46599df061e",
   "metadata": {},
   "outputs": [],
   "source": [
    "j = range(50)\n",
    "tup = list()\n",
    "for i in j:\n",
    "    if i % 2!=0:\n",
    "        continue\n",
    "    tup.append(i)\n",
    "print(tup)"
   ]
  },
  {
   "cell_type": "code",
   "execution_count": null,
   "id": "b471f04a-4f61-478e-8736-37533eb3a9f9",
   "metadata": {},
   "outputs": [],
   "source": [
    "###enumertae:it has index and value\n",
    "### zip : to combine two list"
   ]
  },
  {
   "cell_type": "code",
   "execution_count": 5,
   "id": "d99c881b-279b-4503-9bea-302db8038988",
   "metadata": {},
   "outputs": [
    {
     "name": "stdout",
     "output_type": "stream",
     "text": [
      "a -> 1\n",
      "b -> 2\n",
      "c -> 3\n"
     ]
    }
   ],
   "source": [
    "a=[\"a\",\"b\",\"c\"]\n",
    "b=[1,2,3]\n",
    "for i,j in zip(a,b):\n",
    "    print(f\"{i} -> {j}\")"
   ]
  },
  {
   "cell_type": "code",
   "execution_count": null,
   "id": "757efbb8-7dca-489e-bd5d-aa3473e1281d",
   "metadata": {},
   "outputs": [],
   "source": [
    "for i in range(5):\n",
    "    if i == 3:\n",
    "        pass\n",
    "    print(i)"
   ]
  },
  {
   "cell_type": "code",
   "execution_count": null,
   "id": "84ed0ed6-0b18-4a38-8907-e76c5f5961c2",
   "metadata": {},
   "outputs": [],
   "source": [
    "##list comparsion"
   ]
  },
  {
   "cell_type": "code",
   "execution_count": null,
   "id": "78d06cdf-aa0c-4117-bfda-517375cd819e",
   "metadata": {},
   "outputs": [],
   "source": [
    "even = [i if i%2==0 else None for i in range(20)]\n",
    "print(even)"
   ]
  },
  {
   "cell_type": "code",
   "execution_count": 3,
   "id": "cf8208b9-5df9-472e-897c-7d2b79a563c9",
   "metadata": {},
   "outputs": [
    {
     "data": {
      "text/plain": [
       "[21, 24, 27, 30, 33, 36, 39, 42, 45, 48, 51, 54, 57]"
      ]
     },
     "execution_count": 3,
     "metadata": {},
     "output_type": "execute_result"
    }
   ],
   "source": [
    "a = range(20,60)\n",
    "div3 = [i for i in a if i%3==0]\n",
    "div3"
   ]
  },
  {
   "cell_type": "code",
   "execution_count": null,
   "id": "8405a477-a80e-41c6-b587-16240a51e536",
   "metadata": {},
   "outputs": [],
   "source": [
    "###isdigit "
   ]
  },
  {
   "cell_type": "code",
   "execution_count": 2,
   "id": "72e94055-86b4-437a-b688-68d39e5d5d71",
   "metadata": {},
   "outputs": [
    {
     "name": "stdout",
     "output_type": "stream",
     "text": [
      "*\n",
      "**\n",
      "***\n",
      "****\n",
      "*****\n",
      "****\n",
      "***\n",
      "**\n",
      "*\n"
     ]
    }
   ],
   "source": [
    "for i in range(1,6):\n",
    " x= \"*\"\n",
    " x= x*i\n",
    " i+=1\n",
    " print(f\"{x}\")\n",
    "if i==6:\n",
    "    for i in range(4,0,-1):\n",
    "        x= \"*\"\n",
    "        x=x*i\n",
    "        print(f\"{x}\")"
   ]
  },
  {
   "cell_type": "code",
   "execution_count": 1,
   "id": "2dfe3241-8bfa-4efc-9b4d-b9c11912c7e8",
   "metadata": {},
   "outputs": [
    {
     "name": "stdout",
     "output_type": "stream",
     "text": [
      "^\n",
      "^^\n",
      "^^^\n",
      "^^^^\n",
      "^^^^^\n",
      "^^^^\n",
      "^^^\n",
      "^^\n",
      "^\n"
     ]
    }
   ],
   "source": [
    "for i in range(1,6):\n",
    " x=\"^\"\n",
    " t=x*i\n",
    " print(f\"{t}\")\n",
    " i+=1\n",
    "if i==6:\n",
    "    for i in range(4,0,-1):\n",
    "     x=\"^\"\n",
    "     t=x*i\n",
    "     print(f\"{t}\")"
   ]
  },
  {
   "cell_type": "code",
   "execution_count": 38,
   "id": "799d3d9c",
   "metadata": {},
   "outputs": [
    {
     "name": "stdout",
     "output_type": "stream",
     "text": [
      "1 2 3 4 5 6 7 8 9 "
     ]
    }
   ],
   "source": [
    "for i in range(1,10):\n",
    " i=str(i)\n",
    " print(i,end=\" \")\n",
    " if i.endswith(\"0\"):\n",
    "     print(\"\\n\")"
   ]
  },
  {
   "cell_type": "code",
   "execution_count": null,
   "id": "af5c0c8a",
   "metadata": {},
   "outputs": [
    {
     "name": "stdout",
     "output_type": "stream",
     "text": [
      "\n",
      "pytho\n",
      "pyth\n",
      "pyt\n",
      "py\n",
      "p\n",
      "\n",
      "\n",
      "\n",
      "\n",
      "\n",
      "\n",
      "\n",
      "\n",
      "\n",
      "\n",
      "\n",
      "\n",
      "\n",
      "\n",
      "\n",
      "\n",
      "\n",
      "\n",
      "\n",
      "\n",
      "\n",
      "\n",
      "\n",
      "\n",
      "\n",
      "\n",
      "\n",
      "\n",
      "\n",
      "\n",
      "\n",
      "\n",
      "\n",
      "\n",
      "\n",
      "\n"
     ]
    }
   ],
   "source": [
    "mystr=\"python\"\n",
    "x=0\n",
    "for i in mystr:\n",
    "    x+=1\n",
    "    print(mystr[0:x])\n",
    "    for i in mystr:\n",
    "        x-=1\n",
    "        print(mystr[0:x])"
   ]
  },
  {
   "cell_type": "code",
   "execution_count": 1,
   "id": "85445a5e",
   "metadata": {},
   "outputs": [
    {
     "data": {
      "text/plain": [
       "[1, 25]"
      ]
     },
     "execution_count": 1,
     "metadata": {},
     "output_type": "execute_result"
    }
   ],
   "source": [
    "square=[num**2 for num in(1,5)]\n",
    "square"
   ]
  },
  {
   "cell_type": "code",
   "execution_count": null,
   "id": "54bfca04",
   "metadata": {},
   "outputs": [],
   "source": [
    "##functions\n",
    "if we write the code inside the function we can reuse it \n",
    "3 types\n",
    "1.built-in\n",
    "2.user defined\n",
    "3.lambda"
   ]
  },
  {
   "cell_type": "code",
   "execution_count": 8,
   "id": "c229cc48",
   "metadata": {},
   "outputs": [
    {
     "name": "stdout",
     "output_type": "stream",
     "text": [
      "11\n"
     ]
    }
   ],
   "source": [
    "def function():\n",
    "    x=5\n",
    "    y=6\n",
    "    print(x+y)\n",
    "function()"
   ]
  },
  {
   "cell_type": "code",
   "execution_count": null,
   "id": "86080074",
   "metadata": {},
   "outputs": [],
   "source": [
    "positional argument\n",
    "paramter and arugument in same order is positional arguments\n",
    "keyword argument\n",
    "key and value should be passed\n",
    "variable length arguments\n",
    "(*n) * should use "
   ]
  },
  {
   "cell_type": "code",
   "execution_count": 14,
   "id": "d4512ef5",
   "metadata": {},
   "outputs": [
    {
     "data": {
      "text/plain": [
       "310"
      ]
     },
     "execution_count": 14,
     "metadata": {},
     "output_type": "execute_result"
    }
   ],
   "source": [
    "def sum(*n):\n",
    "    total=0\n",
    "    for n2 in n:\n",
    "        total =total+n2\n",
    "    return total\n",
    "sum(10,20,30,40,50,60,100)"
   ]
  },
  {
   "cell_type": "code",
   "execution_count": 34,
   "id": "f88e2f8d",
   "metadata": {},
   "outputs": [
    {
     "name": "stdout",
     "output_type": "stream",
     "text": [
      "r e c a d \n",
      "b e t l e \n",
      "o n e g e a \n",
      "w h a t \n",
      "a c t i o n \n",
      "r e a l l y \n",
      "t h e \n",
      "m e s s a g e \n",
      "c h a l l e n g e \n"
     ]
    }
   ],
   "source": [
    "letter_to_number = {\n",
    "'a': 1,\n",
    "'b': 2,\n",
    "'c': 3,\n",
    "'d': 4,\n",
    "'e': 5,\n",
    "'f': 6,\n",
    "'g': 7,\n",
    "'h': 8,\n",
    "'i': 9,\n",
    "'j': 10,\n",
    "'k': 11,\n",
    "'l': 12,\n",
    "'m': 13,\n",
    "'n': 14,\n",
    "'o': 15,\n",
    "'p': 16,\n",
    "'q': 17,\n",
    "'r': 18,\n",
    "'s': 19,\n",
    "'t': 20,\n",
    "'u': 21,\n",
    "'v': 22,\n",
    "'w': 23,\n",
    "'x': 24,\n",
    "'y': 25,\n",
    "'z': 26\n",
    "}\n",
    "\n",
    "encoded_messages = [\n",
    "'18-5-3-1-4'\n",
    ",\n",
    "'2-5-20-12-5'\n",
    ",\n",
    "'15-14-5-7-5-1'\n",
    ",\n",
    "'23-8-1-20'\n",
    ",\n",
    "'1-3-20-9-15-14'\n",
    ",\n",
    "'18-5-1-12-12-25'\n",
    ",\n",
    "'20-8-5'\n",
    ",\n",
    "'13-5-19-19-1-7-5'\n",
    ",\n",
    "'3-8-1-12-12-5-14-7-5'\n",
    ",\n",
    "]\n",
    "def decode(val):\n",
    "    for i,j in letter_to_number.items():\n",
    "        if val == j:\n",
    "            return i\n",
    "for i in encoded_messages:\n",
    "    h=i.split(\"-\")\n",
    "    for num in h:\n",
    "        letter = decode(int(num))\n",
    "        print(letter, end=\" \")\n",
    "    print()\n",
    "        \n",
    "    \n",
    "\n",
    "\n",
    "\n",
    "\n",
    "    \n",
    "\n",
    "\n",
    "\n"
   ]
  },
  {
   "cell_type": "code",
   "execution_count": 47,
   "id": "aa960d3b",
   "metadata": {},
   "outputs": [
    {
     "ename": "TypeError",
     "evalue": "unsupported operand type(s) for +: 'int' and 'list'",
     "output_type": "error",
     "traceback": [
      "\u001b[1;31m---------------------------------------------------------------------------\u001b[0m",
      "\u001b[1;31mTypeError\u001b[0m                                 Traceback (most recent call last)",
      "Cell \u001b[1;32mIn[47], line 12\u001b[0m\n\u001b[0;32m     10\u001b[0m \u001b[38;5;28;01mfor\u001b[39;00m i \u001b[38;5;129;01min\u001b[39;00m students:\n\u001b[0;32m     11\u001b[0m     student_grade \u001b[38;5;241m=\u001b[39m grades[i]\n\u001b[1;32m---> 12\u001b[0m     average \u001b[38;5;241m=\u001b[39m \u001b[38;5;28msum\u001b[39m(student_grade) \u001b[38;5;241m/\u001b[39m \u001b[38;5;28mlen\u001b[39m(student_grade)\n\u001b[0;32m     13\u001b[0m     \u001b[38;5;28mprint\u001b[39m(\u001b[38;5;124mf\u001b[39m\u001b[38;5;124m\"\u001b[39m\u001b[38;5;132;01m{\u001b[39;00mi\u001b[38;5;132;01m}\u001b[39;00m\u001b[38;5;124m'\u001b[39m\u001b[38;5;124ms average grade: \u001b[39m\u001b[38;5;132;01m{\u001b[39;00maverage\u001b[38;5;132;01m}\u001b[39;00m\u001b[38;5;124m\"\u001b[39m)\n",
      "Cell \u001b[1;32mIn[14], line 4\u001b[0m, in \u001b[0;36msum\u001b[1;34m(*n)\u001b[0m\n\u001b[0;32m      2\u001b[0m total\u001b[38;5;241m=\u001b[39m\u001b[38;5;241m0\u001b[39m\n\u001b[0;32m      3\u001b[0m \u001b[38;5;28;01mfor\u001b[39;00m n2 \u001b[38;5;129;01min\u001b[39;00m n:\n\u001b[1;32m----> 4\u001b[0m     total \u001b[38;5;241m=\u001b[39mtotal\u001b[38;5;241m+\u001b[39mn2\n\u001b[0;32m      5\u001b[0m \u001b[38;5;28;01mreturn\u001b[39;00m total\n",
      "\u001b[1;31mTypeError\u001b[0m: unsupported operand type(s) for +: 'int' and 'list'"
     ]
    }
   ],
   "source": [
    "\n",
    "students = ['Alice', 'Bob', 'Charlie', 'David', 'Eva']\n",
    "\n",
    "grades = {\n",
    "'Alice': [90, 85, 92, 88],\n",
    "'Bob': [78, 95, 80, 70],\n",
    "'Charlie': [82, 60, 75, 88],\n",
    "'David': [65, 70, 68, 75],\n",
    "'Eva': [88, 92, 45, 90]\n",
    "}\n",
    "for i in students:\n",
    "    student_grade = grades[i]\n",
    "    average = sum(student_grade) / len(student_grade)\n",
    "    print(f\"{i}'s average grade: {average}\")\n",
    "\n",
    "\n",
    "\n",
    "    \n"
   ]
  },
  {
   "cell_type": "code",
   "execution_count": null,
   "id": "86dabf60",
   "metadata": {},
   "outputs": [
    {
     "name": "stdout",
     "output_type": "stream",
     "text": [
      "Alice's average grade: 88.75\n",
      "Bob's average grade: 80.75\n",
      "Charlie's average grade: 76.25\n",
      "David's average grade: 69.5\n",
      "Eva's average grade: 78.75\n"
     ]
    }
   ],
   "source": [
    "students = ['Alice', 'Bob', 'Charlie', 'David', 'Eva']\n",
    "\n",
    "grades = {\n",
    "'Alice': [90, 85, 92, 88],\n",
    "'Bob': [78, 95, 80, 70],\n",
    "'Charlie': [82, 60, 75, 88],\n",
    "'David': [65, 70, 68, 75],\n",
    "'Eva': [88, 92, 45, 90]\n",
    "}\n",
    "for i in students:\n",
    "    student_grade = grades[i]\n",
    "    average = sum(student_grade) / len(student_grade)\n",
    "    print(f\"{i}'s average grade: {average}\")\n",
    "    \n"
   ]
  },
  {
   "cell_type": "code",
   "execution_count": null,
   "id": "9a983ddf",
   "metadata": {},
   "outputs": [],
   "source": []
  },
  {
   "cell_type": "code",
   "execution_count": null,
   "id": "ad4e049b",
   "metadata": {},
   "outputs": [],
   "source": []
  }
 ],
 "metadata": {
  "kernelspec": {
   "display_name": "base",
   "language": "python",
   "name": "python3"
  },
  "language_info": {
   "codemirror_mode": {
    "name": "ipython",
    "version": 3
   },
   "file_extension": ".py",
   "mimetype": "text/x-python",
   "name": "python",
   "nbconvert_exporter": "python",
   "pygments_lexer": "ipython3",
   "version": "3.12.7"
  }
 },
 "nbformat": 4,
 "nbformat_minor": 5
}
