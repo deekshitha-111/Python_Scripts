{
 "cells": [
  {
   "cell_type": "code",
   "execution_count": 9,
   "id": "7dd437d6-e680-465d-bb7a-8b9e86061e88",
   "metadata": {},
   "outputs": [
    {
     "name": "stdout",
     "output_type": "stream",
     "text": [
      "union: {1, 2, 3, 4, 5, 6, 7}\n"
     ]
    }
   ],
   "source": [
    "set1={1,2,3,4}\n",
    "set2={4,5,6,7}\n",
    "union_set=set1.union(set2)\n",
    "print(\"union:\",union_set)"
   ]
  },
  {
   "cell_type": "code",
   "execution_count": 13,
   "id": "7e043356-4607-4cd9-817a-11c532597b21",
   "metadata": {},
   "outputs": [
    {
     "name": "stdout",
     "output_type": "stream",
     "text": [
      "inter: {4}\n"
     ]
    }
   ],
   "source": [
    "inter=set1 & set2\n",
    "print(\"inter:\",inter)"
   ]
  },
  {
   "cell_type": "raw",
   "id": "b914fe65-5879-43fc-984d-3de70eacd3df",
   "metadata": {},
   "source": []
  },
  {
   "cell_type": "code",
   "execution_count": 15,
   "id": "b1d77d49-5e75-47ed-bda9-d8279b95d684",
   "metadata": {},
   "outputs": [
    {
     "name": "stdout",
     "output_type": "stream",
     "text": [
      "difference: {1, 2, 3}\n"
     ]
    }
   ],
   "source": [
    "diff=set1.difference(set2)\n",
    "print(\"difference:\",diff)"
   ]
  },
  {
   "cell_type": "code",
   "execution_count": 23,
   "id": "98cc7d2a-82aa-4bca-9680-415227a3bb0a",
   "metadata": {},
   "outputs": [
    {
     "name": "stdout",
     "output_type": "stream",
     "text": [
      "{'is', 'versatile,', 'powerful,', 'fun', 'python'}\n"
     ]
    }
   ],
   "source": [
    "text=\"python is powerful, python is versatile, python is fun\"\n",
    "type(text)\n",
    "text=text.lower()\n",
    "text=set(text.split(\" \"))\n",
    "print(text)"
   ]
  },
  {
   "cell_type": "code",
   "execution_count": 25,
   "id": "463b710d-0f0c-4288-bfd6-eae4234595b1",
   "metadata": {},
   "outputs": [
    {
     "name": "stdout",
     "output_type": "stream",
     "text": [
      "['apple', 'banana']\n",
      "1210972362624\n",
      "1210972323072\n",
      "1210972362624\n",
      "True\n",
      "True\n"
     ]
    }
   ],
   "source": [
    "x=[\"apple\",\"banana\"]\n",
    "y=[\"apple\",\"banana\"]\n",
    "z=x\n",
    "print(z)\n",
    "print(id(x))\n",
    "print(id(y))\n",
    "print(id(z))\n",
    "print(x==y)\n",
    "print(x is z)"
   ]
  },
  {
   "cell_type": "code",
   "execution_count": 35,
   "id": "a039f275-33ca-4099-8952-ae967f9598da",
   "metadata": {},
   "outputs": [
    {
     "name": "stdin",
     "output_type": "stream",
     "text": [
      "enter a number: 10\n"
     ]
    },
    {
     "name": "stdout",
     "output_type": "stream",
     "text": [
      "positive\n"
     ]
    }
   ],
   "source": [
    "b=int(input(\"enter a number:\"))\n",
    "if b>0:\n",
    "    print(\"positive\")\n",
    "else:\n",
    "    print(\"negative\")"
   ]
  },
  {
   "cell_type": "code",
   "execution_count": 41,
   "id": "2bce882e-b371-4a51-a0ca-188ce2fb947c",
   "metadata": {},
   "outputs": [
    {
     "name": "stdin",
     "output_type": "stream",
     "text": [
      "enter your age 12\n"
     ]
    },
    {
     "name": "stdout",
     "output_type": "stream",
     "text": [
      "you are not eligible to vote , you have to wait 6 years\n"
     ]
    }
   ],
   "source": [
    "age=int(input(\"enter your age\"))\n",
    "if age>=18:\n",
    "    print(\"you are eligible to vote\")\n",
    "else:\n",
    "    remaining=18-age\n",
    "    print(\"you are not eligible to vote , you have to wait\",remaining,\"years\")\n",
    "    "
   ]
  },
  {
   "cell_type": "code",
   "execution_count": 1,
   "id": "ba1e42f5-b2d8-4a9d-81f7-cc1d616f2ba2",
   "metadata": {},
   "outputs": [
    {
     "name": "stdin",
     "output_type": "stream",
     "text": [
      "enter a number: 4\n"
     ]
    },
    {
     "name": "stdout",
     "output_type": "stream",
     "text": [
      "it is even\n"
     ]
    }
   ],
   "source": [
    "num=(int(input(\"enter a number:\")))\n",
    "if num%2==0:\n",
    "  print(\"it is even\")\n",
    "else:\n",
    "  print(\"it is odd\")\n",
    "    \n",
    "         "
   ]
  },
  {
   "cell_type": "code",
   "execution_count": 23,
   "id": "37bacea5-f853-48f2-b45e-b74f89605c8d",
   "metadata": {},
   "outputs": [
    {
     "name": "stdin",
     "output_type": "stream",
     "text": [
      "enter a  number: 2\n",
      "enter the operator to be performed(+,-,*,/): /\n",
      "enter a number: 1\n"
     ]
    },
    {
     "name": "stdout",
     "output_type": "stream",
     "text": [
      "result: 2.0\n"
     ]
    }
   ],
   "source": [
    "number_1=int(input(\"enter a  number:\"))\n",
    "operator=input(\"enter the operator to be performed(+,-,*,/):\")\n",
    "number_2=int(input(\"enter a number:\"))\n",
    "if operator==\"+\":\n",
    "  result=number_1+number_2\n",
    "elif operator==\"-\":\n",
    "  result=number_1-number_2\n",
    "elif operator==\"*\":\n",
    "  result=number_1*number_2\n",
    "elif operator==\"/\":\n",
    "    if number_2==0:\n",
    "        print(\"ZeroDivisionError: division by zero\")\n",
    "    else:\n",
    "        result=number_1/number_2\n",
    "\n",
    "else:\n",
    "  print(\"invalid numbrt\")\n",
    "\n",
    "print(\"result:\",result)\n",
    "          \n",
    "\n"
   ]
  },
  {
   "cell_type": "code",
   "execution_count": null,
   "id": "218f67f7-8759-43ec-9cdf-fc399d544c63",
   "metadata": {},
   "outputs": [],
   "source": [
    "num=int(input(\"enter the year\"))\n",
    "if (num%4==0 \n",
    "    print(\"it is a leap year\")\n",
    "else:\n",
    "    print(\"it is not a leap year\")"
   ]
  },
  {
   "cell_type": "code",
   "execution_count": 9,
   "id": "ab2c02ad-aedf-4e70-be3f-6151938954b3",
   "metadata": {},
   "outputs": [
    {
     "name": "stdin",
     "output_type": "stream",
     "text": [
      "enter 1st number 23\n",
      "enter 2nd number 23\n"
     ]
    },
    {
     "name": "stdout",
     "output_type": "stream",
     "text": [
      "23 is equal to 23\n"
     ]
    }
   ],
   "source": [
    "number1=int(input(\"enter 1st number\"))\n",
    "number2=int(input(\"enter 2nd number\"))\n",
    "if number1>number2:\n",
    "    print(number1 ,\"is greater\")\n",
    "elif number2>number1:\n",
    "    print(number2,\" is greater\")\n",
    "else :\n",
    "    print(number1,\"is equal to\",number2)\n",
    "\n"
   ]
  },
  {
   "cell_type": "code",
   "execution_count": null,
   "id": "a852a74b-3927-435e-b574-23a024ed45dc",
   "metadata": {},
   "outputs": [],
   "source": []
  },
  {
   "cell_type": "code",
   "execution_count": 15,
   "id": "5e111bb8-50fa-4db5-ab25-78a3cda6bf26",
   "metadata": {},
   "outputs": [
    {
     "name": "stdin",
     "output_type": "stream",
     "text": [
      "enter a letter a\n"
     ]
    },
    {
     "name": "stdout",
     "output_type": "stream",
     "text": [
      "vowel\n"
     ]
    }
   ],
   "source": [
    "alp=input(\"enter a letter\").lower()\n",
    "vowels=(\"a\",\"e\",\"i\",\"o\",\"u\")\n",
    "if alp in vowels:\n",
    "    print(\"vowel\")\n",
    "else:\n",
    "    print(\"consonant\")\n"
   ]
  },
  {
   "cell_type": "code",
   "execution_count": 27,
   "id": "db8cc877-36f1-4847-bade-61f0cc8d49e8",
   "metadata": {},
   "outputs": [
    {
     "name": "stdin",
     "output_type": "stream",
     "text": [
      "enter a number 23456\n"
     ]
    },
    {
     "name": "stdout",
     "output_type": "stream",
     "text": [
      "middle number is 4\n"
     ]
    }
   ],
   "source": [
    "num1=(input(\"enter a number\"))\n",
    "if len(num1)%2!=0:\n",
    "    mid=len(num1)//2\n",
    "    print(\"middle number is\",num1[mid])\n",
    "    \n",
    "    \n",
    "    \n"
   ]
  },
  {
   "cell_type": "code",
   "execution_count": 35,
   "id": "190de072-66c2-42b3-a437-cd8cae87a7ae",
   "metadata": {
    "scrolled": true
   },
   "outputs": [
    {
     "name": "stdout",
     "output_type": "stream",
     "text": [
      "1 it is odd\n",
      "2 it is even\n",
      "3 it is odd\n",
      "4 it is even\n",
      "5 it is odd\n",
      "6 it is even\n",
      "7 it is odd\n",
      "8 it is even\n"
     ]
    }
   ],
   "source": [
    "numbers=[1,2,3,4,5,6,7,8]\n",
    "for i in numbers:\n",
    "    if i%2==0:\n",
    "        print(i,\"it is even\")\n",
    "    else:\n",
    "        print(i,\"it is odd\")"
   ]
  },
  {
   "cell_type": "code",
   "execution_count": null,
   "id": "a1677499-18a3-40da-9b06-8b5c79a2f3e3",
   "metadata": {},
   "outputs": [],
   "source": []
  },
  {
   "cell_type": "code",
   "execution_count": 5,
   "id": "0ffa7ebf-7a6d-450f-87f5-8dac1a20c87f",
   "metadata": {},
   "outputs": [
    {
     "name": "stdin",
     "output_type": "stream",
     "text": [
      "enter a number:  4\n"
     ]
    },
    {
     "name": "stdout",
     "output_type": "stream",
     "text": [
      "4 is not a prime\n"
     ]
    }
   ],
   "source": [
    "num = int(input(\"enter a number: \"))\n",
    "if num < 2:\n",
    "    print(\"not a prime\")\n",
    "else:\n",
    "    prime = True\n",
    "    for i in range(2, num):\n",
    "        if num % i == 0:\n",
    "            prime = False\n",
    "            break\n",
    "    if prime:\n",
    "        print(f'{num} is prime')\n",
    "    else:\n",
    "        print(f'{num} is not a prime')\n"
   ]
  },
  {
   "cell_type": "code",
   "execution_count": 16,
   "id": "e28315b7-c29d-4f08-bf08-d5d12eda6c1b",
   "metadata": {},
   "outputs": [
    {
     "name": "stdout",
     "output_type": "stream",
     "text": [
      "it is a anagram\n"
     ]
    }
   ],
   "source": [
    "### anagram\n",
    "a=\"silent\"\n",
    "b=\"listen\"\n",
    "if sorted(a)==sorted(b):\n",
    "    print(\"it is a anagram\")\n",
    "else:\n",
    "    print(\"it is not a anagram\")\n",
    "    \n"
   ]
  },
  {
   "cell_type": "code",
   "execution_count": 20,
   "id": "c232da06-de6b-4c46-8788-e6bbbf1861de",
   "metadata": {},
   "outputs": [
    {
     "name": "stdin",
     "output_type": "stream",
     "text": [
      "enter a word mad\n",
      "enter a word dam\n"
     ]
    },
    {
     "name": "stdout",
     "output_type": "stream",
     "text": [
      "anagram\n"
     ]
    }
   ],
   "source": [
    "##anagram\n",
    "a=(input(\"enter a word\")).lower()\n",
    "b=(input(\"enter a word\")).lower()\n",
    "if sorted(a)==sorted(b):\n",
    "   print(\"anagram\")\n",
    "else:\n",
    "    print(\"not a anagram\")"
   ]
  },
  {
   "cell_type": "code",
   "execution_count": 22,
   "id": "439de863-73d5-4db5-8790-98b9c8be381d",
   "metadata": {},
   "outputs": [
    {
     "name": "stdin",
     "output_type": "stream",
     "text": [
      "Enter a word:  madam\n"
     ]
    },
    {
     "name": "stdout",
     "output_type": "stream",
     "text": [
      "Palindrome\n"
     ]
    }
   ],
   "source": [
    "###palindrome\n",
    "text = input(\"Enter a word: \")\n",
    "if text == text[::-1]:\n",
    "    print(\"Palindrome\")\n",
    "else:\n",
    "    print(\"Not a palindrome\")\n"
   ]
  },
  {
   "cell_type": "code",
   "execution_count": 30,
   "id": "a3fcab68-9519-45e3-afbe-95fc53ef17bd",
   "metadata": {},
   "outputs": [
    {
     "ename": "SyntaxError",
     "evalue": "unterminated string literal (detected at line 1) (2302211507.py, line 1)",
     "output_type": "error",
     "traceback": [
      "\u001b[1;36m  Cell \u001b[1;32mIn[30], line 1\u001b[1;36m\u001b[0m\n\u001b[1;33m    plaindrome=\"its a palindrome\" if a==a[::-1] else \"it not a palindrome ## terinary operator ( we use only if esle only writing code in one line)\u001b[0m\n\u001b[1;37m                                                     ^\u001b[0m\n\u001b[1;31mSyntaxError\u001b[0m\u001b[1;31m:\u001b[0m unterminated string literal (detected at line 1)\n"
     ]
    }
   ],
   "source": [
    "palindrome=(inpu\n",
    "plaindrome=\"its a palindrome\" if a==a[::-1] else \"it not a palindrome\n",
    "## terinary operator ( we use only if esle only writing code in one line)\n",
    "print(palindrome)"
   ]
  },
  {
   "cell_type": "code",
   "execution_count": 28,
   "id": "790e4897-6594-48e6-8839-8c44c985783b",
   "metadata": {},
   "outputs": [
    {
     "data": {
      "text/plain": [
       "['java', 'powerbi', 'python', 'reactjs', 'ruby', 'sql']"
      ]
     },
     "execution_count": 28,
     "metadata": {},
     "output_type": "execute_result"
    }
   ],
   "source": [
    "a=['python','java','ruby','reactjs','sql','powerbi']\n",
    "a.sort()\n",
    "a"
   ]
  },
  {
   "cell_type": "code",
   "execution_count": null,
   "id": "6eefa1cd-472d-41fa-9d61-e5167cfac0a3",
   "metadata": {},
   "outputs": [],
   "source": [
    "numb=75\n",
    "rank=\"A+\" if numb > 90 \"A\" else numb > 80 \"B+\" if numb > 70 else \"B+\" if numb > 70 else \"B\" \n",
    "print(rank)\n"
   ]
  },
  {
   "cell_type": "code",
   "execution_count": null,
   "id": "73f881e5-35fe-4238-bc86-34d52aa50d6f",
   "metadata": {},
   "outputs": [],
   "source": []
  },
  {
   "cell_type": "code",
   "execution_count": 12,
   "id": "938fb010-a20a-4ab0-a272-97bc0e1fb0bb",
   "metadata": {},
   "outputs": [
    {
     "name": "stdout",
     "output_type": "stream",
     "text": [
      "6\n",
      "720\n",
      "362880\n"
     ]
    }
   ],
   "source": [
    "a = [[1, 2, 3],[4, 5, 6],[7, 8, 9]]\n",
    "prod = 1\n",
    "b = []\n",
    "for i in a:\n",
    "    for j in i:\n",
    "        prod *= j\n",
    "        b.append(prod)\n",
    "    print(prod)\n"
   ]
  },
  {
   "cell_type": "code",
   "execution_count": 52,
   "id": "8088e228-809a-4c09-b12e-e32519baac2e",
   "metadata": {},
   "outputs": [
    {
     "name": "stdout",
     "output_type": "stream",
     "text": [
      "0\n",
      "1\n",
      "2\n",
      "3\n",
      "4\n"
     ]
    }
   ],
   "source": [
    "w=0\n",
    "while w<5:\n",
    "    print(w)\n",
    "    w+=1"
   ]
  },
  {
   "cell_type": "code",
   "execution_count": 54,
   "id": "e89234a2-23e8-44a1-833e-a0271e17a89b",
   "metadata": {},
   "outputs": [
    {
     "name": "stdout",
     "output_type": "stream",
     "text": [
      "2\n",
      "3\n",
      "4\n",
      "5\n"
     ]
    }
   ],
   "source": [
    "total = 0\n",
    "count = 1\n",
    "while total < 10:\n",
    "    total+=count\n",
    "    count+=1\n",
    "    print(count)"
   ]
  },
  {
   "cell_type": "code",
   "execution_count": 58,
   "id": "4c286e70-1dc3-49f2-b484-7d43c5ef579f",
   "metadata": {},
   "outputs": [
    {
     "name": "stdout",
     "output_type": "stream",
     "text": [
      "zero\n",
      "-ve\n",
      "-ve\n",
      "-ve\n",
      "-ve\n"
     ]
    }
   ],
   "source": [
    "a = 0\n",
    "while a < 5:\n",
    "    if a < 0:\n",
    "        print(\"+ve\")\n",
    "        a+=1\n",
    "    elif a > 0:\n",
    "        print(\"-ve\")\n",
    "        a+=1\n",
    "    else:\n",
    "        print(\"zero\")\n",
    "        a+=1"
   ]
  },
  {
   "cell_type": "code",
   "execution_count": null,
   "id": "88a4f26f-013f-4496-9584-bf4d5f2d8ce0",
   "metadata": {},
   "outputs": [],
   "source": [
    "### control flow statements\n",
    "1.break \n",
    "2.continue\n",
    "3.pass\n"
   ]
  },
  {
   "cell_type": "code",
   "execution_count": 67,
   "id": "d30b0f4e-e99f-4989-9a2c-53b47e4c1328",
   "metadata": {},
   "outputs": [
    {
     "name": "stdout",
     "output_type": "stream",
     "text": [
      "0\n",
      "1\n",
      "2\n",
      "3\n",
      "4\n",
      "5\n",
      "6\n",
      "7\n",
      "8\n",
      "9\n",
      "10\n"
     ]
    }
   ],
   "source": [
    "##break'\n",
    "f=range(20)\n",
    "for i in f:\n",
    "    print(i)\n",
    "    if i == 10:\n",
    "        break"
   ]
  },
  {
   "cell_type": "code",
   "execution_count": 69,
   "id": "df939197-08ca-4a1a-9bdc-f99e7931550d",
   "metadata": {},
   "outputs": [
    {
     "name": "stdout",
     "output_type": "stream",
     "text": [
      "0\n",
      "1\n",
      "2\n",
      "3\n",
      "4\n",
      "5\n",
      "6\n",
      "7\n"
     ]
    }
   ],
   "source": [
    "g=list(range(10))\n",
    "for j in g:\n",
    "    if j == 8:\n",
    "        break\n",
    "    print(j)"
   ]
  },
  {
   "cell_type": "code",
   "execution_count": 73,
   "id": "8bd4b5f3-8beb-4fc3-95a3-e0395998d37b",
   "metadata": {},
   "outputs": [
    {
     "name": "stdout",
     "output_type": "stream",
     "text": [
      "[0, 2, 4, 6, 8, 10, 12, 14, 16, 18, 20, 22, 24, 26, 28, 30, 32, 34, 36, 38, 40, 42, 44, 46, 48, 50]\n"
     ]
    }
   ],
   "source": [
    "##storing the divisible by 2 values in list\n",
    "h = range(100)\n",
    "lst=list()\n",
    "for i in h:\n",
    "    if i % 2 ==0:\n",
    "        lst.append(i)\n",
    "    if i==50:\n",
    "        break\n",
    "print(lst)"
   ]
  },
  {
   "cell_type": "code",
   "execution_count": 75,
   "id": "8772211f-d1fc-481e-8d08-c46599df061e",
   "metadata": {},
   "outputs": [
    {
     "name": "stdout",
     "output_type": "stream",
     "text": [
      "[0, 2, 4, 6, 8, 10, 12, 14, 16, 18, 20, 22, 24, 26, 28, 30, 32, 34, 36, 38, 40, 42, 44, 46, 48]\n"
     ]
    }
   ],
   "source": [
    "j = range(50)\n",
    "tup = list()\n",
    "for i in j:\n",
    "    if i % 2!=0:\n",
    "        continue\n",
    "    tup.append(i)\n",
    "print(tup)"
   ]
  },
  {
   "cell_type": "code",
   "execution_count": null,
   "id": "b471f04a-4f61-478e-8736-37533eb3a9f9",
   "metadata": {},
   "outputs": [],
   "source": [
    "###enumertae:it has index and value\n",
    "### zip : to combine two list"
   ]
  },
  {
   "cell_type": "code",
   "execution_count": 79,
   "id": "d99c881b-279b-4503-9bea-302db8038988",
   "metadata": {},
   "outputs": [
    {
     "name": "stdout",
     "output_type": "stream",
     "text": [
      "a -> 1\n",
      "b -> 2\n",
      "c -> 3\n"
     ]
    }
   ],
   "source": [
    "a=[\"a\",\"b\",\"c\"]\n",
    "b=[1,2,3]\n",
    "for i,j in zip(a,b):\n",
    "    print(f\"{i} -> {j}\")"
   ]
  },
  {
   "cell_type": "code",
   "execution_count": 81,
   "id": "757efbb8-7dca-489e-bd5d-aa3473e1281d",
   "metadata": {},
   "outputs": [
    {
     "name": "stdout",
     "output_type": "stream",
     "text": [
      "0\n",
      "1\n",
      "2\n",
      "3\n",
      "4\n"
     ]
    }
   ],
   "source": [
    "for i in range(5):\n",
    "    if i == 3:\n",
    "        pass\n",
    "    print(i)"
   ]
  },
  {
   "cell_type": "code",
   "execution_count": null,
   "id": "84ed0ed6-0b18-4a38-8907-e76c5f5961c2",
   "metadata": {},
   "outputs": [],
   "source": [
    "##list comparsion"
   ]
  },
  {
   "cell_type": "code",
   "execution_count": 19,
   "id": "78d06cdf-aa0c-4117-bfda-517375cd819e",
   "metadata": {},
   "outputs": [
    {
     "name": "stdout",
     "output_type": "stream",
     "text": [
      "[0, None, 2, None, 4, None, 6, None, 8, None, 10, None, 12, None, 14, None, 16, None, 18, None]\n"
     ]
    }
   ],
   "source": [
    "even = [i if i%2==0 else None for i in range(20)]\n",
    "print(even)"
   ]
  },
  {
   "cell_type": "code",
   "execution_count": 21,
   "id": "cf8208b9-5df9-472e-897c-7d2b79a563c9",
   "metadata": {},
   "outputs": [
    {
     "data": {
      "text/plain": [
       "[21, 24, 27, 30, 33, 36, 39, 42, 45, 48, 51, 54, 57]"
      ]
     },
     "execution_count": 21,
     "metadata": {},
     "output_type": "execute_result"
    }
   ],
   "source": [
    "a = range(20,60)\n",
    "div3 = [i for i in a if i%3==0]\n",
    "div3"
   ]
  },
  {
   "cell_type": "code",
   "execution_count": null,
   "id": "8405a477-a80e-41c6-b587-16240a51e536",
   "metadata": {},
   "outputs": [],
   "source": [
    "###isdigit "
   ]
  },
  {
   "cell_type": "code",
   "execution_count": null,
   "id": "72e94055-86b4-437a-b688-68d39e5d5d71",
   "metadata": {},
   "outputs": [],
   "source": []
  },
  {
   "cell_type": "code",
   "execution_count": null,
   "id": "2dfe3241-8bfa-4efc-9b4d-b9c11912c7e8",
   "metadata": {},
   "outputs": [],
   "source": []
  }
 ],
 "metadata": {
  "kernelspec": {
   "display_name": "Python [conda env:base] *",
   "language": "python",
   "name": "conda-base-py"
  },
  "language_info": {
   "codemirror_mode": {
    "name": "ipython",
    "version": 3
   },
   "file_extension": ".py",
   "mimetype": "text/x-python",
   "name": "python",
   "nbconvert_exporter": "python",
   "pygments_lexer": "ipython3",
   "version": "3.12.7"
  }
 },
 "nbformat": 4,
 "nbformat_minor": 5
}
